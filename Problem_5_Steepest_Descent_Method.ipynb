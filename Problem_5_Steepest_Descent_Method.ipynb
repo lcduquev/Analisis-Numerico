{
  "nbformat": 4,
  "nbformat_minor": 0,
  "metadata": {
    "colab": {
      "name": "Problem 5 - Steepest Descent Method",
      "provenance": [],
      "collapsed_sections": [],
      "include_colab_link": true
    },
    "kernelspec": {
      "name": "python3",
      "display_name": "Python 3"
    }
  },
  "cells": [
    {
      "cell_type": "markdown",
      "metadata": {
        "id": "view-in-github",
        "colab_type": "text"
      },
      "source": [
        "<a href=\"https://colab.research.google.com/github/lcduquev/Analisis-Numerico/blob/master/Problem_5_Steepest_Descent_Method.ipynb\" target=\"_parent\"><img src=\"https://colab.research.google.com/assets/colab-badge.svg\" alt=\"Open In Colab\"/></a>"
      ]
    },
    {
      "cell_type": "markdown",
      "metadata": {
        "id": "NqOLTUaXyUw6"
      },
      "source": [
        "# Problem 5\n",
        "Find the minimizer of Rosenbrock's function:\n",
        "\n",
        "$$\n",
        "f(x) = (1 - x_1)^2 + 100(x_2 - x_1^2)^2 \n",
        "$$\n",
        "\n",
        "Use an initial point $x_0 = \\begin{pmatrix}\n",
        "  -1 \\\\\n",
        "  −1 \\\\\n",
        "   \\end{pmatrix}$ and stopping criteria $|| \\bigtriangledown f(x)||$ < 0.001."
      ]
    },
    {
      "cell_type": "markdown",
      "metadata": {
        "id": "7n7Wdp7ZFDFO"
      },
      "source": [
        "### Steepest Descent Method\n",
        "\n",
        "![image.png](data:image/png;base64,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)"
      ]
    },
    {
      "cell_type": "markdown",
      "metadata": {
        "id": "gdSZ-IlKbFrO"
      },
      "source": [
        "##Definición de la función a minimizar y su gradiente"
      ]
    },
    {
      "cell_type": "code",
      "metadata": {
        "id": "37GVxflV_g29"
      },
      "source": [
        "import numpy as np\n",
        "from scipy import optimize\n",
        "import matplotlib.pyplot as plt\n",
        "import sympy as sp"
      ],
      "execution_count": 102,
      "outputs": []
    },
    {
      "cell_type": "code",
      "metadata": {
        "id": "6641WsBbAf2n"
      },
      "source": [
        "def f(x1,x2):\n",
        "    return ((1-x1)**2)+(100*(x2-x1**2)**2)"
      ],
      "execution_count": 93,
      "outputs": []
    },
    {
      "cell_type": "code",
      "metadata": {
        "id": "8wlfJGnPAu2s"
      },
      "source": [
        "def grad(x1,x2): \n",
        "    return np.array([-2*(1-x1) -400*x1*(x2-x1**2), \n",
        "                     200*(x2-x1**2)])"
      ],
      "execution_count": 94,
      "outputs": []
    },
    {
      "cell_type": "markdown",
      "metadata": {
        "id": "GwsARQzkHQAQ"
      },
      "source": [
        "## Programación de los métodos"
      ]
    },
    {
      "cell_type": "markdown",
      "metadata": {
        "id": "yUKVFftvEwW2"
      },
      "source": [
        "### Gradiente desendiente paso optimizado\n",
        "\n",
        "![image.png](data:image/png;base64,iVBORw0KGgoAAAANSUhEUgAAAMIAAAA1CAYAAAATdjSQAAAOe0lEQVR4Ae2bCVBUZ7bHXWrmzWRw1BffDI4mcRJkTDI6uCYaHAUJaCSgKGqMoglCVDRIIGp8YZGgoMaIGgguKOIaiIYJopagIuJCkQJBRCkDCI9FKJYukOru6r71e9UNNN1NNwJiou2l6lZ/91vP+Z/zv+d83730QvwTERARoJeIgYiAiAAiEUQnEBFQISBGBNEPRAREIog+ICLQjIAYEURPEBEQI4LoAyICzQiIEUH0BBEBMSKIPiAi0IyAGBFETxARECOC6AMiAs0IiBFB9AQRATEiiD4gItCMQI9HBEGSx4HlM1l/Xipi3IMIPJe4ChLyDixn5vrzPGlv6nEiIJSyy3EWeyqFHnQDcarnE1eB0l2OzNpTyZP2pp4nQm0s8xxCySm+TmJ8EjernrQKzwlJnktca4md50BoTjHXE+NJuln1xAjR40RoSvTAdn0ad5P3EXOxHIUp+KmgRPkb89kkcX2UbzQl4mG7nrS7yeyLuUj5E3SmHiaCnKt+Yxk/w43ACw8fpeYz0i7nsrcl5gvjaXgMievSwvk8IJAltguJua/UmklO4dlojmXUdPC0+61wFSg7sQq7qdOY8b4TTk76lyPTZwdxwRgwdWmEfx5A4BJbFsbcR0frwrNEH8ugpoMHjPyqH2PHz8At8AIabxIquHb8GFfKtWYzVKeFcGeKPUsEZT6b7FyIOOyBjU8qUqWyA+N2Rryno4+sJJMbhRpTdF2o+kQ87XxJa2ok73wKBU2tUyi5f8KXNYd+0XGS1lbN72+Iq1BxiNn/M5gFJ6rb2VJZsBP39RfbnFQjsKpQT6KnHb5pTTTmnSelTWmU90/gu+YQv2j5ss5Q9Y2S/E12uEQcxsPGh1SpVlSW32H/us1cqtVikaG69pMarelRIgjlkTg57qZUdoutjg58eiCdci1ZjUrRpQaBppoKHjToxUmlDJkSlE0PkbXOJ6+nurbJuJMppUjlqs5SJPVSjaHl9TVI1PWtE4FCLte0o5AiVS2vaKS+UU+OtiEtJYHyqJmMXHWxTa7WlrIY5tr6k6meQkZdWTFFRUUUFRVTXiehukR1X0zFvV8D13aCt1TIuLb2TczGbSRHR9VGUtYt41sj3iyURzFz5CouaoyhUZqYubb4NyuNrK6MYrXORRSX1yGpLlHfF1fcI9LJkd2lMm5tdcTh0wOkazmTNNWHaR6J1GmJbahOq7nDYteJIMlk7wY/AkMCCI7N4SFNXApwxiehXnchuRRZT5Og8QbbF7kRcDieKE9b3t2UgUyoJnP/Sia/MonlYd5YD+7PzP3/R170aty//Jbdvg6MHDWNBSsDibvb+giSUpj0JdNftmRu8C6CvBcxedhQpm86wr6gNXz8/r8YMuITEqsFZPcv8rXbGIY4RlFFEwWnfPn3ECvcQjbivXgaw82t8Lsg0dW99U5ZxLnIID7450BGfRjM9qMZ1GswUZAbNIExGzKb91FCPT+HOzK4by9697dje14ZWWEzsHLZSmpZq9xAj+MqIXPvBvwCQwgIjiXnITRdCsDZJ6FVC4TSfTi+OIRFP9Rq6pTFUXj6nTWQLiopOhdJ0Af/ZOCoDwnefpSMNqVR5AYxYcyGFvIL1P8cjuPgvvTq3R+77XmUZYUxw8qFrallWg8wOVJ9Z5KdxfMf7xFVpgEUDNVpJO640DUiKPIJtx/N0lOq3buEkx5z2J4Vz2JLJ/Z34bhUfnUzs2ymMGWKsWsqTiFX0Hsoo8gMYqrNJrIUIE9bw4hR68hQdarZg8MfX8b9pzpkVfcpLz+O61/tiXwggCIbf6uBzDnWqIuEPJVPLf6C67Fm49bsew8zi5WkqLopcgkaO4j5caocRsnd0Lcxs/+OKtUM0pN8OOgVPkpQjZNxaZUFw5Ynt3vaaxaT/sTSoRPZrCFhS4tQzm7b/jge0CKRUMYR17/Rt3c/3t6wh6+8w8nUpFGaGXuwoCA/3J7RS0+hOtyTnPRgzvYs4hdb4rS/UmudJi6vscTs7U3kqaOClCv+y/jmjhZBtXqrIuxPS4cycfNdLWdWdRAo321Lf8cDtGktUHbElb/17U2/tzew5ytvwjujtLKQbZP/yoI4rZTVUJ2OXMZvukQE6TlPhll6k6b2UCUFYTa8NWUSVl7J6LmZ8RUft0VeQUbCMQ6HOPPS8NWkqmRpisXZbBzBeS2GqTvErIFvsO6GqrGBQ87mzD2mt6OTX8HnH0NxT2qO3U1xC3hxdADZKkMri/h6shn2UdVq45XutKGfhggJuA1+s2VuBVlfWjHog3ijL3wUNwMYO9yrfYqgyCbAaiCuJ3Q9XSg5hIt5H3r1fQmPM1pGfiRuCnL3rWS+qyuuBq/5LN+bozuL9ByewyzxbjYoyoIwbN6awiQrL5L1DKosjsB+wEssTahDWR7DCp//6KQlOhMrbhIwdjhe7fIiBdkBVgx0PYGO1kIJh1zM6dOrLy95nDGy59BZAagmyr4fU8NLtBoM1Wk1d1DsAhGU5AWP4092kagetKq/6igHXnjZjR9aKzpYSKepsZyC/Nvcvm3syuduuZ4lVP5Z8gNeMz/m4D0Z8qu+vG5phAg8JDtyDuNsVrEjMgRvvxjy9XPVjoggFLNdRYTvVDFA4HGIUBPtiPnsw+gljqB6eln3Z1asnp5CJYcXD8OsT2/MJoaQrS+3DpB6N6pjXoUChcFLa7PZMkyZF8y4P9k1R05VXXUUDi+8jNsPD9r2Q5olHpLi9Rr9rDdxPMCdLbk6GwZNL3WhJhpH89kcbq80hdus6T8rVu/BKVB5eDHDzPrQ22wiIZ1RWqjg22n9sIvQilyG6nQlM3rXBSK0OMSkLdxTbUrLTuI+wgxL78vIGhto1ErVjK7W0qDI2oOX22IWLzZ2ubEi6me91EhJfsh4zN5tJqL0/Cf8/bWWJ606Ioxl460W4whVnN8WSkKJHMGYXO2IMJ8X//WlOu3SRIQWIpTsmEq/d79Tpw9IE3Azb4sImf87Sh0RdJ5wGgBkJC9/jXfCCvRSBFUHGSkrLHgnVDt9UFAQ7UNA4k1iXMzVKZJ1WK4eDprJH7sglO7Ept8ktjQblJPuIzCz9OayrJEGAwZV3gvHpt8LvLI0jmpjuKo0S17Oa++EUWAgc5KlrMDinVC0M0VFQTQ+AYncjHHBXJUiWYeRq846OlBRkYX/mDf4LF2ro36dopLstJtUGZBDf+YuEAGEBz/i+earTJwzHyfnT4hMCOW9ia6s/foM2nsW/UV66r7+jBeWZoOwmr2Kjds8Gd//VZw2/8j5/W5Y/u6/sQ04TX6dANIUfEYMYOBQC14fOZpxk+z56JsrWmfWTRSe/4LJ/c2YtPYsBeV3OLVyFL8fYMvG1GJKMyOY+9LvsVxykOvZl9kxewi/+/sCIm8U8csZb8b8YRD2m65Qcj8V/6kD+C+r1ZwuMvA1jPIuodYj8bumZSwtMGTpfkxwOdhMMKGOjIgFvGHhTEROBZmhNgzo04s+f56Af7peWqc1x2MVhQf86Pkmr06cw3wnZz6JTCD0vYm4rv2aMwYN2sAZr1kE/mxYn2ZZVHsqa0b6XTNMYFk6fhNcOKj+4kCgLiOCBW9Y4ByRQ0VmKDYD+tCrz5+Z4J9uYCPepq2yaAf2E/3RFkW/Tn59La//0Qp/1abyEX9dIoJ6LkUdFRUSzRtjqURiND9+xNrdapbWVFCrThcEGqsqkRjQUVn4PcFbk7hbdJusjGukXUwixmct+7WO37q1eFcHSY4yb9xnXDGW3ghVnPZdxq58A0p0da1u91dQV1HRhqNUgsQApzs/vYSj88bxmXGlqTrty7Jd+Rof6vzcrT2byNi4EL9k7dzLUJ2ShvpGA9G4dZ62364ToW3sU1qSkbJyOOPXp1PTEhIVNdl8H360a/n2Y2gny4om5PgdKr/3YknUvY4NIcsnLvwA1zvKNR5Dll9tqCyL6JDj3Kn8Hq8lUer02fjaMvLjwjlwvf1LOuNjWlsUlJz7hrC4Aq2IY6iutX/nfk2QCNCUdxif99/Caqw1785axOpNx8lWpUy/0p8i7yCf+0cQG5euOVjocGmhjpKSegMb1A5HPV2NijwOfu5PRGwc6Z06PBGoKynReq/SSXWEaorv66WKhuo6OV1rN5MkQqty4q+IQGcREInQWaTEfiaNgEgEbfMKFSTv3sq+E9FsC0+ipBPHbtrDxfKzi8BzRgSBitTjxGdUGPwkoi5+MVPWXkWOgpuB05gXa+jF0rNrbFFy4wiYLBGEmpskHj9Byp1GBOltTp++1ez88koy43ay0d+fr3afIruq9ejyIScXWbAwvvnVmCxpGSNcj7Z/I2wcS7HlGUbANIkgucC6+V9wsfYBR303cDL2I5y33Gl3jCktvcqRrzyY57aR00WF7LCxYEVy86G//JofI61134A+w3YWRX8EAiZIBIGSb6czOSgXherL0S3OWE74mBM6R3pNlFw5wvbgQILC9nO+QIJAHQecXsX9dPPbJNml1YyYHkkXPqp9BNRi89OMgAkSQc6NtVZMj6hEEGo5u2I0DruLW87oBSov7SEkeAt7k25Tp7MZVnJvqw0OO0sREKja68y/g289xtvPp9nsomz6CJggEeDh5S+wsV3KmhXu+PkuYLb7bpIKjH3n0AaJUJuMv7s/J9N/YqP7ek7rRJG2fmLJ9BAwSSKozKRoqKVB/W2YEmnz/2OqrSd9UEBuTg45OlcuhTUtm2ZlI5UlFTToRAvTM7yokS4CJksEXTVb7wRqshI4dPAgB3WuWM7c1vu/gNYh4u9zgcBzRoTnwqaikt1AQCRCN0ATh5geAiIRTM+mokbdQEAkQjdAE4eYHgIiEUzPpqJG3UBAJEI3QBOHmB4CIhFMz6aiRt1AQCRCN0ATh5geAiIRTM+mokbdQEAkQjdAE4eYHgIiEUzPpqJG3UBAJEI3QBOHmB4CIhFMz6aiRt1A4P8BjScacZbdG+UAAAAASUVORK5CYII=)"
      ]
    },
    {
      "cell_type": "code",
      "metadata": {
        "id": "FP0bx-mhgLMm"
      },
      "source": [
        "def gd1(x, f, grad, a, max_iter): #Gradiente desendiente paso optimizado\n",
        "  xs = np.zeros((1 + max_iter, 2))\n",
        "  xs[0,:] = x\n",
        "\n",
        "  for i in range(max_iter):\n",
        "    g = grad(x[0],x[1])\n",
        "    def phi(s):\n",
        "      return f(x[0]-s*g[0],x[1]-s*g[1])\n",
        "\n",
        "    a = optimize.fminbound(phi, 0, 10)\n",
        "\n",
        "    x = x - a * g\n",
        "    xs[i+1,:] = x\n",
        "\n",
        "    tol = abs(f(xs[i+1,0],xs[i+1,1])-f(xs[i,0],xs[i,1]))/max(1,abs(f(xs[i,0],xs[i,1])))\n",
        "    if tol < epsi:\n",
        "      break\n",
        "  return xs,i+1"
      ],
      "execution_count": 55,
      "outputs": []
    },
    {
      "cell_type": "markdown",
      "metadata": {
        "id": "y743_46KFarR"
      },
      "source": [
        "### Gradiente desendiente paso fijo"
      ]
    },
    {
      "cell_type": "code",
      "metadata": {
        "id": "9KnjZ2hnRH0N"
      },
      "source": [
        "def gd2(x, f, grad, a, max_iter, epsi): #Gradiente desendiente paso fijo    \n",
        "  xs = np.zeros((1 + max_iter, 2))\n",
        "  xs[0,:] = x\n",
        "\n",
        "  for i in range(max_iter):\n",
        "      x = x - a * grad(x[0],x[1])\n",
        "      xs[i+1,:] = x\n",
        "\n",
        "      #tolerancia: criterio de finalización\n",
        "      tol = abs(f(xs[i+1,0],xs[i+1,1])-f(xs[i,0],xs[i,1]))/max(1,abs(f(xs[i,0],xs[i,1])))\n",
        "      if tol < epsi: #en caso tal de no encontrar un optimo finalizar con el algoritmo\n",
        "        break\n",
        "  return xs,i+1"
      ],
      "execution_count": 98,
      "outputs": []
    },
    {
      "cell_type": "markdown",
      "metadata": {
        "id": "921OGEAqbPkA"
      },
      "source": [
        "## Solución"
      ]
    },
    {
      "cell_type": "markdown",
      "metadata": {
        "id": "4dYLIneWbgLH"
      },
      "source": [
        "### (a) Con gradiente desendiente de paso optimizado"
      ]
    },
    {
      "cell_type": "code",
      "metadata": {
        "id": "DR4b2AmmgEQX"
      },
      "source": [
        "x = np.array([-1,-1])\n",
        "epsi = 0.001\n",
        "max_iter = 10000"
      ],
      "execution_count": 95,
      "outputs": []
    },
    {
      "cell_type": "code",
      "metadata": {
        "id": "Anl_JYqlXm7e"
      },
      "source": [
        "res1 = gd1(x, f, grad, epsi, max_iter)\n",
        "xs1 = res1[0]\n",
        "i1 = res1[1]"
      ],
      "execution_count": 96,
      "outputs": []
    },
    {
      "cell_type": "code",
      "metadata": {
        "id": "byqLKGrxbA9W",
        "outputId": "2c491841-b5de-4eb8-91da-63e57058aa44",
        "colab": {
          "base_uri": "https://localhost:8080/",
          "height": 301
        }
      },
      "source": [
        "xx = np.linspace(-3, 4)\n",
        "yy = np.linspace(-2, 5)\n",
        "X, Y = np.meshgrid(xx, yy)\n",
        "Z = ((1-X)**2) + (100*(Y-X**2)**2)\n",
        "function = f(xs1[0:i1+1,0],xs1[0:i1+1,1])\n",
        "c = plt.contour(X, Y, Z, np.flip(function))\n",
        "plt.plot(xs1[0:i1+1,0],xs1[0:i1+1,1],'-ro')\n",
        "plt.xlabel('x_1')\n",
        "plt.ylabel('x_2')\n",
        "print(xs1[i1,0],xs1[i1,1])"
      ],
      "execution_count": 97,
      "outputs": [
        {
          "output_type": "stream",
          "text": [
            "-2.0729217175162282 4.303615553703404\n"
          ],
          "name": "stdout"
        },
        {
          "output_type": "display_data",
          "data": {
            "image/png": "[encoded data removed]",
            "text/plain": [
              "<Figure size 432x288 with 1 Axes>"
            ]
          },
          "metadata": {
            "tags": [],
            "needs_background": "light"
          }
        }
      ]
    },
    {
      "cell_type": "code",
      "metadata": {
        "id": "H1lnzuITJDtB",
        "outputId": "e4a6d553-19da-4cbf-fed2-74b2cb800f33",
        "colab": {
          "base_uri": "https://localhost:8080/",
          "height": 296
        }
      },
      "source": [
        "plt.plot(f(xs1[0:i1+1,0],xs1[0:i1+1,1]),'-bo')\n",
        "plt.xlabel('k')\n",
        "plt.ylabel('f(x)')"
      ],
      "execution_count": 52,
      "outputs": [
        {
          "output_type": "execute_result",
          "data": {
            "text/plain": [
              "Text(0, 0.5, 'f(x)')"
            ]
          },
          "metadata": {
            "tags": []
          },
          "execution_count": 52
        },
        {
          "output_type": "display_data",
          "data": {
            "image/png": "[encoded data removed]",
            "text/plain": [
              "<Figure size 432x288 with 1 Axes>"
            ]
          },
          "metadata": {
            "tags": [],
            "needs_background": "light"
          }
        }
      ]
    },
    {
      "cell_type": "markdown",
      "metadata": {
        "id": "zCiBdxkfbo7x"
      },
      "source": [
        "### (b) Con gradiente desendiente de paso fijo\n",
        "\n"
      ]
    },
    {
      "cell_type": "code",
      "metadata": {
        "id": "xXAFZh0SgGDQ"
      },
      "source": [
        "x = np.array([-1,-1])\n",
        "max_iter = 1000\n",
        "epsi = 0.001 #tolerancia\n",
        "a = 0.25 #tamaño de paso fijo"
      ],
      "execution_count": 33,
      "outputs": []
    },
    {
      "cell_type": "code",
      "metadata": {
        "id": "W5yV-vTrbe8H",
        "outputId": "a92b4925-c329-405c-aec9-75bbb3ef1a45",
        "colab": {
          "base_uri": "https://localhost:8080/",
          "height": 187
        }
      },
      "source": [
        "res2 = gd2(x, f, grad, a, max_iter,epsi)\n",
        "xs2 = res2[0]\n",
        "i2 = res2[1]"
      ],
      "execution_count": 99,
      "outputs": [
        {
          "output_type": "stream",
          "text": [
            "/usr/local/lib/python3.6/dist-packages/ipykernel_launcher.py:2: RuntimeWarning: overflow encountered in double_scalars\n",
            "  \n",
            "/usr/local/lib/python3.6/dist-packages/ipykernel_launcher.py:10: RuntimeWarning: invalid value encountered in double_scalars\n",
            "  # Remove the CWD from sys.path while we load stuff.\n",
            "/usr/local/lib/python3.6/dist-packages/ipykernel_launcher.py:3: RuntimeWarning: overflow encountered in double_scalars\n",
            "  This is separate from the ipykernel package so we can avoid doing imports until\n",
            "/usr/local/lib/python3.6/dist-packages/ipykernel_launcher.py:2: RuntimeWarning: invalid value encountered in double_scalars\n",
            "  \n",
            "/usr/local/lib/python3.6/dist-packages/ipykernel_launcher.py:3: RuntimeWarning: invalid value encountered in double_scalars\n",
            "  This is separate from the ipykernel package so we can avoid doing imports until\n"
          ],
          "name": "stderr"
        }
      ]
    },
    {
      "cell_type": "code",
      "metadata": {
        "id": "ryPxWbHicSeU",
        "outputId": "c9bdb3b6-ff92-41fc-c7d3-21b6b93dbde0",
        "colab": {
          "base_uri": "https://localhost:8080/",
          "height": 479
        }
      },
      "source": [
        "xx = np.linspace(-1, 1.75)\n",
        "yy = np.linspace(-2, 3.5)\n",
        "X, Y = np.meshgrid(xx, yy)\n",
        "Z = ((1-X)**2) + (100*(Y-X**2)**2)\n",
        "function = f(xs2[0:i2+1,0],xs2[0:i2+1,1])\n",
        "c = plt.contour(X, Y, Z, np.flip(function))\n",
        "plt.plot(xs2[0:i2+1,0],xs2[0:i2+1,1] , '-ro')\n",
        "plt.xlabel('$x_1$')\n",
        "plt.ylabel('$x_2$')\n",
        "print(xs2[i2,0],xs2[i2,1]) #imprimir los valores mínimos encontrados para x1 y x2"
      ],
      "execution_count": 100,
      "outputs": [
        {
          "output_type": "stream",
          "text": [
            "/usr/local/lib/python3.6/dist-packages/ipykernel_launcher.py:2: RuntimeWarning: overflow encountered in square\n",
            "  \n",
            "/usr/local/lib/python3.6/dist-packages/ipykernel_launcher.py:2: RuntimeWarning: invalid value encountered in subtract\n",
            "  \n",
            "/usr/local/lib/python3.6/dist-packages/matplotlib/contour.py:1163: RuntimeWarning: invalid value encountered in greater\n",
            "  inside = (self.levels > self.zmin) & (self.levels < self.zmax)\n",
            "/usr/local/lib/python3.6/dist-packages/matplotlib/contour.py:1163: RuntimeWarning: invalid value encountered in less\n",
            "  inside = (self.levels > self.zmin) & (self.levels < self.zmax)\n",
            "/usr/local/lib/python3.6/dist-packages/numpy/lib/function_base.py:1269: RuntimeWarning: invalid value encountered in subtract\n",
            "  a = op(a[slice1], a[slice2])\n"
          ],
          "name": "stderr"
        },
        {
          "output_type": "stream",
          "text": [
            "nan nan\n"
          ],
          "name": "stdout"
        },
        {
          "output_type": "display_data",
          "data": {
            "image/png": "[encoded data removed]",
            "text/plain": [
              "<Figure size 432x288 with 1 Axes>"
            ]
          },
          "metadata": {
            "tags": [],
            "needs_background": "light"
          }
        }
      ]
    },
    {
      "cell_type": "code",
      "metadata": {
        "id": "2umtqJy2qu9r",
        "outputId": "0fe3506c-1b13-435e-e57b-729b02a60416",
        "colab": {
          "base_uri": "https://localhost:8080/",
          "height": 375
        }
      },
      "source": [
        "#graficamos los pasos\n",
        "plt.plot(f(xs2[0:i2+1,0],xs2[0:i2+1,1]),'-bo')\n",
        "plt.xlabel('k')\n",
        "plt.ylabel('f(x)')"
      ],
      "execution_count": 101,
      "outputs": [
        {
          "output_type": "stream",
          "text": [
            "/usr/local/lib/python3.6/dist-packages/ipykernel_launcher.py:2: RuntimeWarning: overflow encountered in square\n",
            "  \n",
            "/usr/local/lib/python3.6/dist-packages/ipykernel_launcher.py:2: RuntimeWarning: invalid value encountered in subtract\n",
            "  \n"
          ],
          "name": "stderr"
        },
        {
          "output_type": "execute_result",
          "data": {
            "text/plain": [
              "Text(0, 0.5, 'f(x)')"
            ]
          },
          "metadata": {
            "tags": []
          },
          "execution_count": 101
        },
        {
          "output_type": "display_data",
          "data": {
            "image/png": "[encoded data removed]",
            "text/plain": [
              "<Figure size 432x288 with 1 Axes>"
            ]
          },
          "metadata": {
            "tags": [],
            "needs_background": "light"
          }
        }
      ]
    }
  ]
}
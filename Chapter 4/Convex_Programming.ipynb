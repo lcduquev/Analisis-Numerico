{
  "nbformat": 4,
  "nbformat_minor": 0,
  "metadata": {
    "colab": {
      "name": "Chapter 4/Convex Programming",
      "provenance": [],
      "include_colab_link": true
    },
    "kernelspec": {
      "name": "python3",
      "display_name": "Python 3"
    }
  },
  "cells": [
    {
      "cell_type": "markdown",
      "metadata": {
        "id": "view-in-github",
        "colab_type": "text"
      },
      "source": [
        "<a href=\"https://colab.research.google.com/github/lcduquev/Analisis-Numerico/blob/master/Chapter%204/Convex_Programming.ipynb\" target=\"_parent\"><img src=\"https://colab.research.google.com/assets/colab-badge.svg\" alt=\"Open In Colab\"/></a>"
      ]
    },
    {
      "cell_type": "code",
      "metadata": {
        "id": "eJgjQjIEh_M3"
      },
      "source": [
        "import cvxpy as cp\n",
        "import numpy as np\n",
        "import math"
      ],
      "execution_count": null,
      "outputs": []
    },
    {
      "cell_type": "markdown",
      "metadata": {
        "id": "nsG1tDnKuCL9"
      },
      "source": [
        "#4.5.1"
      ]
    },
    {
      "cell_type": "code",
      "metadata": {
        "id": "TqDsMtU1mcth"
      },
      "source": [
        "A = np.array([[1 ,- 10*math.log10(10)], \n",
        "     [1 ,- 10*math.log10(20)],\n",
        "     [1 ,- 10*math.log10(50)],\n",
        "     [1 ,- 10*math.log10(100)],\n",
        "     [1 ,- 10*math.log10(300)]])\n"
      ],
      "execution_count": null,
      "outputs": []
    },
    {
      "cell_type": "code",
      "metadata": {
        "id": "ktX8JQlimelw"
      },
      "source": [
        "b = np.array([-70,-75,-90,-110,-125])"
      ],
      "execution_count": null,
      "outputs": []
    },
    {
      "cell_type": "code",
      "metadata": {
        "id": "icATAelliI_k",
        "outputId": "d6204c8d-e28f-4eb6-b1d6-932fe1090a51",
        "colab": {
          "base_uri": "https://localhost:8080/",
          "height": 87
        }
      },
      "source": [
        "# Define and solve the CVXPY problem.\n",
        "x = cp.Variable(2)\n",
        "cost = cp.sum_squares(A @ x - b)\n",
        "prob = cp.Problem(cp.Minimize(cost))\n",
        "prob.solve()\n",
        "\n",
        "# Print result.\n",
        "print(\"\\nThe optimal value is\", cp.norm(A @ x - b, p=2).value)\n",
        "print(\"The optimal x is\")\n",
        "print(x.value)"
      ],
      "execution_count": null,
      "outputs": [
        {
          "output_type": "stream",
          "text": [
            "\n",
            "The optimal value is 7.524206953382565\n",
            "The optimal x is\n",
            "[-26.7439583    3.96691516]\n"
          ],
          "name": "stdout"
        }
      ]
    },
    {
      "cell_type": "markdown",
      "metadata": {
        "id": "nDk2K54RuYK4"
      },
      "source": [
        "#4.5.2"
      ]
    },
    {
      "cell_type": "code",
      "metadata": {
        "id": "K-O8F6UquZ4V",
        "outputId": "e1fc69f0-e54d-4b55-de3a-96701e244e13",
        "colab": {
          "base_uri": "https://localhost:8080/",
          "height": 158
        }
      },
      "source": [
        "W = 1\n",
        "rth = np.array([2, 1])\n",
        "a= np.array([1, 1])\n",
        "b = np.array([1, 0.5])\n",
        "\n",
        "p = cp.Variable(2)\n",
        "w = cp.Variable(2)\n",
        "\n",
        "prob = cp.Problem(cp.Minimize(sum(p)**2),\n",
        "                 [\n",
        "                  rth[0]*cp.log(2) + a[0]*cp.kl_div(w[0],w[0]+b[0]*p[0]) - a[0]*b[0]*p[0] <= 0,   \n",
        "                  rth[1]*cp.log(2) + a[1]*cp.kl_div(w[1],w[1]+b[1]*p[1]) - a[1]*b[1]*p[1] <= 0,                           \n",
        "                  w >=0,\n",
        "                  p >=0,\n",
        "                  sum(w)==W\n",
        "                  ])\n",
        "prob.solve()\n",
        "\n",
        "print(\"\\nThe optimal value is\", prob.value)\n",
        "print(\"A solution p is\")\n",
        "print(p.value)\n",
        "print(\"A solution w is\")\n",
        "print(w.value)"
      ],
      "execution_count": null,
      "outputs": [
        {
          "output_type": "stream",
          "text": [
            "\n",
            "The optimal value is 83.35315477842217\n",
            "A solution p is\n",
            "[5.15674609 3.9730488 ]\n",
            "A solution w is\n",
            "[0.62189165 0.37810835]\n",
            "A dual solution corresponding to the inequality constraints is\n",
            "169.6687706044418\n"
          ],
          "name": "stdout"
        }
      ]
    },
    {
      "cell_type": "markdown",
      "metadata": {
        "id": "oNa6us41EqT_"
      },
      "source": [
        "#4.5.3"
      ]
    },
    {
      "cell_type": "code",
      "metadata": {
        "id": "g-56vv2kFDO8",
        "outputId": "d64439e8-07d1-49ba-87f7-cdfdee5c212e",
        "colab": {
          "base_uri": "https://localhost:8080/",
          "height": 158
        }
      },
      "source": [
        "m = 4;\n",
        "SINR = np.array([ [15], [12], [9], [6] ]) \n",
        "noise_pow = 1e-9\n",
        "\n",
        "H=np.zeros((m,m))\n",
        "\n",
        "for i in range(m):\n",
        "  for j in range(m):\n",
        "    H[i,j] = np.exp(-abs(i-j))\n",
        "\n",
        "d = np.diag(H)\n",
        "p = cp.Variable((m,1))\n",
        "\n",
        "prob = cp.Problem(cp.Minimize(sum(p)),\n",
        "                  [SINR*(H-np.diag(d)).T@p  + SINR*noise_pow - d*p <= 0,\n",
        "                   p >= 0\n",
        "                  ])\n",
        "prob.solve()\n",
        "print(\"status:\", prob.status)\n",
        "print(\"\\nThe optimal value is\", prob.value)\n",
        "print(\"A solution p is\")\n",
        "print(p.value)"
      ],
      "execution_count": null,
      "outputs": [
        {
          "output_type": "stream",
          "text": [
            "status: optimal_inaccurate\n",
            "\n",
            "The optimal value is 1.9983388098097472e-08\n",
            "A solution p is\n",
            "[[8.64501405e-09]\n",
            " [5.82952061e-10]\n",
            " [9.05976727e-11]\n",
            " [1.06648243e-08]]\n"
          ],
          "name": "stdout"
        }
      ]
    },
    {
      "cell_type": "markdown",
      "metadata": {
        "id": "xioTPKGXdTxc"
      },
      "source": [
        "#4.5.4"
      ]
    },
    {
      "cell_type": "code",
      "metadata": {
        "id": "uInWG0bpYcy3",
        "outputId": "57b530ac-1a69-413d-fc7b-0e60bfc0768b",
        "colab": {
          "base_uri": "https://localhost:8080/",
          "height": 123
        }
      },
      "source": [
        "d = np.array([[1],[2],[3]]) # demand\n",
        "s = np.array([[3],[3],[3]]) # supply\n",
        "n = 3;\n",
        "b = np.ones((n,1));\n",
        "\n",
        "x=cp.Variable((n,n))\n",
        "\n",
        "prob = cp.Problem(cp.Minimize(sum(x[0,:])**2 + sum(x[1,:])**2),\n",
        "                  [x.T@b == d,\n",
        "                   x@b <= s,\n",
        "                   x >= 0\n",
        "                  ])\n",
        "prob.solve()\n",
        "\n",
        "print(\"\\nThe optimal value is\", prob.value)\n",
        "print(\"A solution x is\")\n",
        "print(x.value)\n"
      ],
      "execution_count": null,
      "outputs": [
        {
          "output_type": "stream",
          "text": [
            "\n",
            "The optimal value is 4.5\n",
            "A solution x is\n",
            "[[0.16666667 0.5        0.83333333]\n",
            " [0.16666667 0.5        0.83333333]\n",
            " [0.66666667 1.         1.33333333]]\n"
          ],
          "name": "stdout"
        }
      ]
    }
  ]
}
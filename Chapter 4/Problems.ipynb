{
  "nbformat": 4,
  "nbformat_minor": 0,
  "metadata": {
    "colab": {
      "name": "Chapter 4/Problems",
      "provenance": [],
      "include_colab_link": true
    },
    "kernelspec": {
      "name": "python3",
      "display_name": "Python 3"
    }
  },
  "cells": [
    {
      "cell_type": "markdown",
      "metadata": {
        "id": "view-in-github",
        "colab_type": "text"
      },
      "source": [
        "<a href=\"https://colab.research.google.com/github/lcduquev/Analisis-Numerico/blob/master/Chapter%204/Problems.ipynb\" target=\"_parent\"><img src=\"https://colab.research.google.com/assets/colab-badge.svg\" alt=\"Open In Colab\"/></a>"
      ]
    },
    {
      "cell_type": "markdown",
      "metadata": {
        "id": "y7qMJFzCAXUA"
      },
      "source": [
        "# Problems from Chapter 4"
      ]
    },
    {
      "cell_type": "code",
      "metadata": {
        "id": "eJgjQjIEh_M3"
      },
      "source": [
        "#Importamos las librerías necesarias para resolver los problemas\n",
        "\n",
        "import cvxpy as cp\n",
        "import numpy as np\n",
        "import math\n",
        "import sympy as sp\n",
        "from sympy import Integral, Matrix, pi, pprint\n",
        "from scipy import optimize\n",
        "import matplotlib.pyplot as plt"
      ],
      "execution_count": 13,
      "outputs": []
    },
    {
      "cell_type": "code",
      "metadata": {
        "id": "1aO8cfJBL0vM"
      },
      "source": [
        "#Definimos las funciones que se van a utilizar para calcular el gradiente y el Hessiano de las funciones\n",
        "\n",
        "def gradient(f,*variables):\n",
        "\n",
        "  n=len(variables)\n",
        "  m=1\n",
        "  grad=sp.zeros(n,m)\n",
        "  i=0\n",
        "  for var in variables:\n",
        "    grad[i,0]=sp.diff(f,var)\n",
        "    i+=1\n",
        "  \n",
        "  return grad\n",
        "\n",
        "def hessian(f,*variables):\n",
        "\n",
        "  n=len(variables)\n",
        "  m=n\n",
        "  hess=sp.zeros(n,m)\n",
        "  for i in range(0,n):\n",
        "    for j in range(0,n):\n",
        "      first_diff=sp.diff(f,variables[j])\n",
        "      second_diff=sp.diff(first_diff,variables[i])\n",
        "      hess[i,j]=second_diff\n",
        "  \n",
        "  return hess"
      ],
      "execution_count": null,
      "outputs": []
    },
    {
      "cell_type": "markdown",
      "metadata": {
        "id": "nsG1tDnKuCL9"
      },
      "source": [
        "![p1.PNG](data:image/png;base64,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)"
      ]
    },
    {
      "cell_type": "markdown",
      "metadata": {
        "id": "iH2lX11mNZL8"
      },
      "source": [
        "### (a)"
      ]
    },
    {
      "cell_type": "code",
      "metadata": {
        "id": "3CAC8jjTLLja",
        "outputId": "a14e49cd-c120-4f20-a44c-f498e8bf453d",
        "colab": {
          "base_uri": "https://localhost:8080/",
          "height": 132
        }
      },
      "source": [
        "#Definimos la función\n",
        "x1=sp.Symbol('x_1')\n",
        "x2=sp.Symbol('x_2')\n",
        "f=1/(x1*x2) \n",
        "\n",
        "#Calculamos el Hessiano\n",
        "hess=hessian(f,x1,x2)\n",
        "hess_val=sp.lambdify([x1,x2],hess)\n",
        "\n",
        "sp.init_printing()\n",
        "display(Matrix(hess))\n",
        "print(\"\\n\")\n",
        "hess.eigenvals()"
      ],
      "execution_count": 20,
      "outputs": [
        {
          "output_type": "display_data",
          "data": {
            "text/latex": "$$\\left[\\begin{matrix}\\frac{2}{x_{1}^{3} x_{2}} & \\frac{1}{x_{1}^{2} x_{2}^{2}}\\\\\\frac{1}{x_{1}^{2} x_{2}^{2}} & \\frac{2}{x_{1} x_{2}^{3}}\\end{matrix}\\right]$$",
            "text/plain": [
              "⎡  2         1   ⎤\n",
              "⎢──────   ───────⎥\n",
              "⎢  3        2   2⎥\n",
              "⎢x₁ ⋅x₂   x₁ ⋅x₂ ⎥\n",
              "⎢                ⎥\n",
              "⎢   1       2    ⎥\n",
              "⎢───────  ────── ⎥\n",
              "⎢  2   2       3 ⎥\n",
              "⎣x₁ ⋅x₂   x₁⋅x₂  ⎦"
            ]
          },
          "metadata": {
            "tags": []
          }
        },
        {
          "output_type": "stream",
          "text": [
            "\n",
            "\n"
          ],
          "name": "stdout"
        },
        {
          "output_type": "execute_result",
          "data": {
            "image/png": "[encoded data removed]",
            "text/latex": "$$\\left \\{ \\frac{x_{1}^{2} + x_{2}^{2}}{x_{1}^{3} x_{2}^{3}} - \\frac{1}{x_{1}^{3} x_{2}^{3}} \\sqrt{x_{1}^{4} - x_{1}^{2} x_{2}^{2} + x_{2}^{4}} : 1, \\quad \\frac{x_{1}^{2} + x_{2}^{2}}{x_{1}^{3} x_{2}^{3}} + \\frac{1}{x_{1}^{3} x_{2}^{3}} \\sqrt{x_{1}^{4} - x_{1}^{2} x_{2}^{2} + x_{2}^{4}} : 1\\right \\}$$",
            "text/plain": [
              "⎧               _____________________                    _____________________\n",
              "⎪  2     2     ╱   4     2   2     4        2     2     ╱   4     2   2     4 \n",
              "⎪x₁  + x₂    ╲╱  x₁  - x₁ ⋅x₂  + x₂       x₁  + x₂    ╲╱  x₁  - x₁ ⋅x₂  + x₂  \n",
              "⎨───────── - ────────────────────────: 1, ───────── + ────────────────────────\n",
              "⎪   3   3              3   3                 3   3              3   3         \n",
              "⎪ x₁ ⋅x₂             x₁ ⋅x₂                x₁ ⋅x₂             x₁ ⋅x₂          \n",
              "⎩                                                                             \n",
              "\n",
              "   ⎫\n",
              "   ⎪\n",
              "   ⎪\n",
              ": 1⎬\n",
              "   ⎪\n",
              "   ⎪\n",
              "   ⎭"
            ]
          },
          "metadata": {
            "tags": []
          },
          "execution_count": 20
        }
      ]
    }
  ]
}